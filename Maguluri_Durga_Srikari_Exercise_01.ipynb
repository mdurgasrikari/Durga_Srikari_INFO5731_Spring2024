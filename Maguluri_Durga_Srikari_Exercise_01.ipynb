{
  "cells": [
    {
      "cell_type": "markdown",
      "metadata": {
        "id": "view-in-github",
        "colab_type": "text"
      },
      "source": [
        "<a href=\"https://colab.research.google.com/github/mdurgasrikari/Durga_Srikari_INFO5731_Spring2024/blob/main/Maguluri_Durga_Srikari_Exercise_01.ipynb\" target=\"_parent\"><img src=\"https://colab.research.google.com/assets/colab-badge.svg\" alt=\"Open In Colab\"/></a>"
      ]
    },
    {
      "cell_type": "markdown",
      "metadata": {
        "id": "DymRJbxDBCnf"
      },
      "source": [
        "# **This first In-class-exercise cover a variety of fundamental concepts in Python and are designed to help individuals improve their coding skills and problem-solving abilities.**\n",
        "\n",
        "The submission is due on 01/31/2024 11:59 PM. This submission is worth 40 points in total.\n"
      ]
    },
    {
      "cell_type": "markdown",
      "source": [
        "(1) Write a Python program that  prompts the user to input the length and width of a rectangle, and then calculates and displays the area of the rectangle."
      ],
      "metadata": {
        "id": "FBKvD6O_TY6e"
      }
    },
    {
      "cell_type": "code",
      "source": [
        "# Program to find the area of a rectangle with a user prompt as the input\n",
        "\n",
        "#Prompting the user to enter the length and breadth of the rectangle. Enabling to calculate the area of decimal values as well\n",
        "Length_of_rectangle = float(input(\"Enter the length of the rectangle: \"))\n",
        "Breadth_of_rectangle = float(input(\"Enter the breadth of the rectangle: \"))\n",
        "\n",
        "#calculating the area of the rectangle\n",
        "Area_of_the_rectangle = Length_of_rectangle*Breadth_of_rectangle\n",
        "\n",
        "#Printing the area of the rectangle\n",
        "print(\"Area of the rectangle: \", Area_of_the_rectangle)"
      ],
      "metadata": {
        "id": "cikVKDXdTbzE",
        "colab": {
          "base_uri": "https://localhost:8080/"
        },
        "outputId": "d43c55f3-1a01-4993-e08a-9f7882ca6a0f"
      },
      "execution_count": null,
      "outputs": [
        {
          "output_type": "stream",
          "name": "stdout",
          "text": [
            "Enter the length of the rectangle: 4\n",
            "Enter the breadth of the rectangle: 2\n",
            "Area of the rectangle:  8.0\n"
          ]
        }
      ]
    },
    {
      "cell_type": "markdown",
      "source": [
        "(2) Create a Python program that interactively takes two numerical inputs from the user and swaps their values without utilizing an extra variable."
      ],
      "metadata": {
        "id": "E9RqrlwdTfvl"
      }
    },
    {
      "cell_type": "code",
      "source": [
        "# Program to swap two user prompted numerical variables without using a third variable\n",
        "\n",
        "#Prompting the user to enter two numerical variables\n",
        "Variable_1 = int(input(\"Enter variable 1 value: \"))\n",
        "Variable_2 = int(input(\"Enter variable 2 value: \"))\n",
        "\n",
        "#printing variables before swapping\n",
        "print(\"Variables before swapping:\", \"Variable_1 is:\", Variable_1, \"Variable_2 is:\", Variable_2)\n",
        "\n",
        "#Swapping variables without using third variable\n",
        "Variable_1, Variable_2 = Variable_2, Variable_1\n",
        "\n",
        "#printing variables after swapping\n",
        "print(\"Variables after swapping:\", \"Variable_1 is:\", Variable_1, \"Variable_2 is:\", Variable_2)"
      ],
      "metadata": {
        "id": "4XvRknixTh1g",
        "colab": {
          "base_uri": "https://localhost:8080/"
        },
        "outputId": "dfb2f863-8a9b-4993-d752-07885664fa72"
      },
      "execution_count": null,
      "outputs": [
        {
          "output_type": "stream",
          "name": "stdout",
          "text": [
            "Enter variable 1 value: 4\n",
            "Enter variable 2 value: 2\n",
            "Variables before swapping: Variable_1 is: 4 Variable_2 is: 2\n",
            "Variables after swapping: Variable_1 is: 2 Variable_2 is: 4\n"
          ]
        }
      ]
    },
    {
      "cell_type": "markdown",
      "metadata": {
        "id": "03jb4GZsBkBS"
      },
      "source": [
        "(3) Write a Python script to determine and print the length of a user-input string."
      ]
    },
    {
      "cell_type": "code",
      "execution_count": null,
      "metadata": {
        "id": "YaGLbSHHB8Ej",
        "colab": {
          "base_uri": "https://localhost:8080/"
        },
        "outputId": "9a6487b1-8b12-4dc3-a6d4-8a9be40b8837"
      },
      "outputs": [
        {
          "output_type": "stream",
          "name": "stdout",
          "text": [
            "Enter a string: Durga\n",
            "Length of the string is: 5\n"
          ]
        }
      ],
      "source": [
        "# Program to print the length of a string prompted by a user\n",
        "\n",
        "#Prompting the user to enter a string\n",
        "String = str(input(\"Enter a string: \"))\n",
        "\n",
        "#measuring the length of a string\n",
        "Length = len(String)\n",
        "\n",
        "#printing the length of the given string\n",
        "print(\"Length of the string is:\", Length)\n"
      ]
    },
    {
      "cell_type": "markdown",
      "metadata": {
        "id": "jJDe71iLB616"
      },
      "source": [
        "(4) Construct a Python program that counts and displays the occurrences of each character in a given string.\n",
        "\n",
        "Sample String: 'openai.ai',\n",
        "\n",
        "Expected Result: {'a': 2, 'i': 2, '.': 1, 'o': 1, 'p': 1, 'e': 1, 'n': 1}"
      ]
    },
    {
      "cell_type": "code",
      "execution_count": null,
      "metadata": {
        "id": "MtKskTzbCLaU",
        "colab": {
          "base_uri": "https://localhost:8080/"
        },
        "outputId": "26d6f2de-4547-4256-fabd-f7f6e504e5c0"
      },
      "outputs": [
        {
          "output_type": "stream",
          "name": "stdout",
          "text": [
            "Enter a string: Srikari\n",
            "Frequency of characters in a given string are as follows: {'S': 1, 'r': 2, 'i': 2, 'k': 1, 'a': 1}\n"
          ]
        }
      ],
      "source": [
        "# Program to find the occurrence of each character in a given string by a user\n",
        "\n",
        "#Prompting the user to enter a string\n",
        "String = str(input(\"Enter a string: \"))\n",
        "\n",
        "#calculating frequency of characters in a string\n",
        "Frequency = {}\n",
        "\n",
        "for i in String:\n",
        "  if i in Frequency:\n",
        "    Frequency[i] += 1\n",
        "  else:\n",
        "    Frequency[i] = 1\n",
        "\n",
        "#printing the frequecy of characters in a string\n",
        "print(\"Frequency of characters in a given string are as follows:\", str(Frequency))"
      ]
    },
    {
      "cell_type": "markdown",
      "metadata": {
        "id": "55W9AMdXCSpV"
      },
      "source": [
        "(5) Design a Python code to calculate the sum of all elements in a user-provided list."
      ]
    },
    {
      "cell_type": "code",
      "execution_count": null,
      "metadata": {
        "id": "I57NXsauCec2",
        "colab": {
          "base_uri": "https://localhost:8080/"
        },
        "outputId": "fe491842-63f2-43f2-d527-21c40ed29296"
      },
      "outputs": [
        {
          "output_type": "stream",
          "name": "stdout",
          "text": [
            "Sum of elements is: 15\n"
          ]
        }
      ],
      "source": [
        "# Program to calculate the sum of all numeric elements in a list\n",
        "\n",
        "#list of elements and initializing Sum\n",
        "List = [1,2,3,4,5]\n",
        "Sum = 0\n",
        "\n",
        "#calculating sum of elements\n",
        "for i in range(0, len(List)):\n",
        "  Sum = Sum + List[i]\n",
        "\n",
        "#printing the sum of elements\n",
        "print(\"Sum of elements is:\", Sum)"
      ]
    },
    {
      "cell_type": "markdown",
      "metadata": {
        "id": "4ulBZ6yhCi9F"
      },
      "source": [
        "(6) Write a Python program that modifies a given string by replacing all occurrences of its first character with '$', excluding the first character itself.\n",
        "\n",
        "\n",
        "Sample String : 'restart‘,\n",
        "\n",
        "Expected Result : 'resta\\$t'"
      ]
    },
    {
      "cell_type": "code",
      "execution_count": 29,
      "metadata": {
        "id": "Fj0XhwbBCw2o",
        "colab": {
          "base_uri": "https://localhost:8080/"
        },
        "outputId": "e6c8fdb8-fb07-4e2f-a6f1-c07cf8495f46"
      },
      "outputs": [
        {
          "output_type": "stream",
          "name": "stdout",
          "text": [
            "Enter a string: restart\n",
            "String before replacement restart\n",
            "resta$t\n"
          ]
        }
      ],
      "source": [
        "# Program to change all occurances of first character with '$' except for the first character\n",
        "\n",
        "#Prompting the user to enter a string\n",
        "String = str(input(\"Enter a string: \"))\n",
        "\n",
        "#printing the string before the replacement\n",
        "print(\"String before replacement\", String)\n",
        "\n",
        "#defining function for changing the string\n",
        "def change_character(String):\n",
        "#replace all occurrences of the the character with $ and then reconstruct the string by placing the original character as the first character followed by the modified string starting from the second character\n",
        "  char=String[0]\n",
        "  String= char + String[1:].replace(char, '$')\n",
        "  return String\n",
        "\n",
        "#printing the string after the replacement\n",
        "print(change_character(String))\n"
      ]
    },
    {
      "cell_type": "markdown",
      "source": [
        "(7) Write a Python program using a while loop to compute the factorial of a user-supplied number."
      ],
      "metadata": {
        "id": "qVXA3q7ET5JI"
      }
    },
    {
      "cell_type": "code",
      "source": [
        "#Program to calcualte factorial of a user input number using while loop\n",
        "\n",
        "#Prompting the user to enter a number\n",
        "Number = int(input(\"Enter a number to calculate the factorial: \"))\n",
        "\n",
        "#Prompting the user to enter a number and provide the factorial if it is greater than 0. If it negative, a message is displayed that factorial is not possible\n",
        "def factorial(Number):\n",
        "  if Number<0:\n",
        "    return \"Negative number: Factorial not possible\"\n",
        "  elif Number==0 or Number==1:\n",
        "    return 1\n",
        "\n",
        "  result = 1\n",
        "  while Number >1:\n",
        "    result*=Number\n",
        "    Number-=1\n",
        "  return result\n",
        "\n",
        "print(\"Factorial of the Number is:\", factorial(Number))"
      ],
      "metadata": {
        "id": "Lbt7R6UkT7BA",
        "colab": {
          "base_uri": "https://localhost:8080/"
        },
        "outputId": "5f31ba04-efec-497b-c240-16c8af7d7d35"
      },
      "execution_count": 28,
      "outputs": [
        {
          "output_type": "stream",
          "name": "stdout",
          "text": [
            "Enter a number to calculate the factorial: 5\n",
            "Factorial of the Number is: 120\n"
          ]
        }
      ]
    },
    {
      "cell_type": "markdown",
      "source": [
        "(8) Create a program that accepts a list of numbers as input and outputs a new list containing only the even numbers."
      ],
      "metadata": {
        "id": "6YfbzXMNT--R"
      }
    },
    {
      "cell_type": "code",
      "source": [
        "#Prompting the user to enter a list\n",
        "List =[]\n",
        "\n",
        "#Number of elements that will be accepted from the user as input\n",
        "Number = int(input(\"Enter a number of element: \"))\n",
        "\n",
        "#Appending number to the list\n",
        "for i in range(0,Number):\n",
        "  element = int(input(\"Enter the element:\"))\n",
        "  List.append(element)\n",
        "\n",
        "print(\"List before modification \", List)\n",
        "\n",
        "#iterating each\n",
        "print(\"List after modification:\")\n",
        "for j in List:\n",
        "  if j % 2 == 0:\n",
        "    print(j, end=\" \")\n"
      ],
      "metadata": {
        "id": "54q7wMQPUAKu",
        "colab": {
          "base_uri": "https://localhost:8080/"
        },
        "outputId": "816f1464-a16c-4d70-f85f-5ea856362715"
      },
      "execution_count": 43,
      "outputs": [
        {
          "output_type": "stream",
          "name": "stdout",
          "text": [
            "Enter a number of element: 4\n",
            "Enter the element:1\n",
            "Enter the element:2\n",
            "Enter the element:3\n",
            "Enter the element:4\n",
            "List before modification  [1, 2, 3, 4]\n",
            "List after modification:\n",
            "2 4 "
          ]
        }
      ]
    },
    {
      "cell_type": "markdown",
      "metadata": {
        "id": "_bIP7s1MCzue"
      },
      "source": [
        "\n",
        "(9) Design a Python function to check if a number is prime.\n"
      ]
    },
    {
      "cell_type": "code",
      "execution_count": 64,
      "metadata": {
        "id": "w79QilHXD3Mg",
        "colab": {
          "base_uri": "https://localhost:8080/"
        },
        "outputId": "f4317fbb-4f42-4abc-c1da-bd8442b9e84e"
      },
      "outputs": [
        {
          "output_type": "stream",
          "name": "stdout",
          "text": [
            "Enter a number to check if it is prime: 4\n",
            "4 is not a prime number\n"
          ]
        }
      ],
      "source": [
        "#Program to calcualte if a number is prime or not\n",
        "\n",
        "#Prompting the user to enter a number\n",
        "Number = int(input(\"Enter a number to check if it is prime: \"))\n",
        "\n",
        "#Check if the number is prime or not and print it\n",
        "if Number<2:\n",
        "  print(Number, \"is not a prime number\")\n",
        "elif Number ==2:\n",
        "  print(Number, \"is a prime number\")\n",
        "else:\n",
        "  for i in range (2, int(Number**0.5) + 1):\n",
        "    if Number % i == 0:\n",
        "      print(Number, \"is not a prime number\")\n",
        "      break\n",
        "\n",
        "  else:\n",
        "    print(Number, \"is a prime number\")\n",
        "\n",
        "\n"
      ]
    },
    {
      "cell_type": "markdown",
      "metadata": {
        "id": "xCa2bK9aD4Q3"
      },
      "source": [
        "(10) Write a Python program to concatenate following dictionaries to create a new one.\n",
        "\n",
        "Sample Dictionary : dic1={1:10, 2:20}, dic2={3:30, 4:40}, dic3={5:50,6:60},\n",
        "\n",
        "Expected Result : {1: 10, 2: 20, 3: 30, 4: 40, 5: 50, 6: 60}\n"
      ]
    },
    {
      "cell_type": "code",
      "execution_count": 67,
      "metadata": {
        "id": "_z4aLqAbEET1",
        "colab": {
          "base_uri": "https://localhost:8080/"
        },
        "outputId": "b38d7219-72b3-4ad6-cd6a-b3572c36c4d2"
      },
      "outputs": [
        {
          "output_type": "stream",
          "name": "stdout",
          "text": [
            "Combined dictionary is {1: 10, 2: 20, 3: 30, 4: 40, 5: 50, 6: 60}\n"
          ]
        }
      ],
      "source": [
        "#Program to concatinate provided dictionaries to create a new dictionary\n",
        "\n",
        "#Sample dictionaries provided\n",
        "dic1={1:10, 2:20}\n",
        "dic2={3:30, 4:40}\n",
        "dic3={5:50, 6:60}\n",
        "\n",
        "#using concatenate to combine all the dictionaries into a single dictionary\n",
        "Combined_dict = dic1.copy()\n",
        "Combined_dict.update(dic2)\n",
        "Combined_dict.update(dic3)\n",
        "\n",
        "#printing the combined dictionary\n",
        "print (\"Combined dictionary is\", Combined_dict)"
      ]
    },
    {
      "cell_type": "markdown",
      "source": [
        "(11) Design a Python function that takes a tuple of integers as input and returns the largest and smallest elements."
      ],
      "metadata": {
        "id": "bkyZ2xSZUOst"
      }
    },
    {
      "cell_type": "code",
      "source": [
        "#Program to find the largest and smallest numbers in a tuple and display them\n",
        "\n",
        "#Prompting the user to enter a list\n",
        "List =[]\n",
        "\n",
        "#Number of elements that will be accepted from the user as input\n",
        "Number = int(input(\"Enter a number of element: \"))\n",
        "\n",
        "#Appending number to the list\n",
        "for i in range(0,Number):\n",
        "  element = int(input(\"Enter the element:\"))\n",
        "  List.append(element)\n",
        "\n",
        "#Converting list to tuple\n",
        "Tuple = tuple(List)\n",
        "\n",
        "#Assigning the first element of the tuple as largest and smallest number value\n",
        "largest = Tuple[0]\n",
        "smallest = Tuple[0]\n",
        "\n",
        "# calculate the largest and smallest number in the tuple\n",
        "for Number in Tuple:\n",
        "  if Number > largest:\n",
        "    largest = Number\n",
        "  elif Number < smallest:\n",
        "    smallest = Number\n",
        "\n",
        "print(\"Largest number is:\", largest, \"Smallest number is:\",  smallest)"
      ],
      "metadata": {
        "id": "3FdLRBKOUQEd",
        "colab": {
          "base_uri": "https://localhost:8080/"
        },
        "outputId": "45b52bc4-38ea-43b0-a43f-b03cb52e9f07"
      },
      "execution_count": 70,
      "outputs": [
        {
          "output_type": "stream",
          "name": "stdout",
          "text": [
            "Enter a number of element: 5\n",
            "Enter the element:1\n",
            "Enter the element:2\n",
            "Enter the element:3\n",
            "Enter the element:4\n",
            "Enter the element:5\n",
            "Largest number is: 5 Smallest number is: 1\n"
          ]
        }
      ]
    },
    {
      "cell_type": "markdown",
      "source": [
        "(12) Write a Python program that counts the frequency of each character in a given string and stores it in a dictionary."
      ],
      "metadata": {
        "id": "O0TVi3gKUTpp"
      }
    },
    {
      "cell_type": "code",
      "source": [
        "# Program to count the frequency of each character in a given string and store in a dictionary\n",
        "\n",
        "#Prompting the user to enter a string\n",
        "String = str(input(\"Enter a string: \"))\n",
        "\n",
        "#initializing a dictionary\n",
        "Character_Frequency = {}\n",
        "\n",
        "#Counting frequency of each character in the String\n",
        "for i in String:\n",
        "  if i in Character_Frequency:\n",
        "    Character_Frequency[i] +=1\n",
        "  else:\n",
        "    Character_Frequency[i] =1\n",
        "\n",
        "#Printing the character frequency in a String\n",
        "print (\"Character Frequency of the String is:\", Character_Frequency)"
      ],
      "metadata": {
        "id": "lAtfSfZXUU-h",
        "colab": {
          "base_uri": "https://localhost:8080/"
        },
        "outputId": "095931e3-aa26-4f75-cfc8-e09c92cfb237"
      },
      "execution_count": 73,
      "outputs": [
        {
          "output_type": "stream",
          "name": "stdout",
          "text": [
            "Enter a string: Hello\n",
            "Character Frequency of the String is: {'H': 1, 'e': 1, 'l': 2, 'o': 1}\n"
          ]
        }
      ]
    },
    {
      "cell_type": "markdown",
      "metadata": {
        "id": "0v48Vqa7FrQh"
      },
      "source": [
        "(13) Implement a Python script to identify duplicate elements in a provided\n",
        "\n",
        "---\n",
        "\n",
        "array of integers. Return -1 if there are no duplicates."
      ]
    },
    {
      "cell_type": "code",
      "execution_count": 144,
      "metadata": {
        "id": "7WEmgq-DF2P1",
        "colab": {
          "base_uri": "https://localhost:8080/"
        },
        "outputId": "bb73ea62-147f-4d88-a613-a80cdb4152ee"
      },
      "outputs": [
        {
          "output_type": "stream",
          "name": "stdout",
          "text": [
            "Enter a number of element: 4\n",
            "Enter the element:2\n",
            "Enter the element:2\n",
            "Enter the element:1\n",
            "Enter the element:1\n",
            "Duplicate element 2\n",
            "Duplicate element 1\n"
          ]
        }
      ],
      "source": [
        "# Program to find duplicate elements in an array\n",
        "\n",
        "#Prompting the user to enter a list\n",
        "List =[]\n",
        "\n",
        "#Number of elements that will be accepted from the user as input\n",
        "Number = int(input(\"Enter a number of element: \"))\n",
        "\n",
        "#Appending number to the list\n",
        "for i in range(0,Number):\n",
        "  element = int(input(\"Enter the element:\"))\n",
        "  List.append(element)\n",
        "\n",
        "my_array = List\n",
        "Array_copy = set()\n",
        "duplicates_found = False\n",
        "\n",
        "#Find duplicates and print appropriate messsage\n",
        "for j in my_array:\n",
        "    if j in Array_copy:\n",
        "      print(\"Duplicate element\", j)\n",
        "      duplicates_found = True\n",
        "\n",
        "    else:\n",
        "      Array_copy.add(j)\n",
        "\n",
        "if not duplicates_found:\n",
        "    print(\"No Duplicates found: Returning -1\")\n",
        ""
      ]
    },
    {
      "cell_type": "markdown",
      "metadata": {
        "id": "vD5PYLMuGga_"
      },
      "source": [
        "(14) Write a Python script to find the common elements between two lists."
      ]
    },
    {
      "cell_type": "code",
      "execution_count": 146,
      "metadata": {
        "id": "t0D5kdJUGjjw",
        "colab": {
          "base_uri": "https://localhost:8080/"
        },
        "outputId": "b54582d4-60f9-4b67-dfb7-309558988e9b"
      },
      "outputs": [
        {
          "output_type": "stream",
          "name": "stdout",
          "text": [
            "Enter a number of element: 3\n",
            "Enter the element for list 1:1\n",
            "Enter the element for list 1:2\n",
            "Enter the element for list 1:3\n",
            "Enter the element for list 2:3\n",
            "Enter the element for list 2:4\n",
            "Enter the element for list 2:5\n",
            "Common Elements are:  [3]\n"
          ]
        }
      ],
      "source": [
        "# write your answer here\n",
        "\n",
        "#Prompting the user to enter a list\n",
        "List1 =[]\n",
        "List2 =[]\n",
        "\n",
        "#Number of elements that will be accepted from the user as input\n",
        "Number = int(input(\"Enter a number of element: \"))\n",
        "\n",
        "#Appending number to the list1\n",
        "for i in range(0,Number):\n",
        "  element = int(input(\"Enter the element for list 1:\"))\n",
        "  List1.append(element)\n",
        "\n",
        "#Appending number to the list2\n",
        "for i in range(0,Number):\n",
        "  element = int(input(\"Enter the element for list 2:\"))\n",
        "  List2.append(element)\n",
        "\n",
        "#finding common elements and printing them\n",
        "Common_Elements = []\n",
        "for i in List1:\n",
        "  if i in List2 :\n",
        "      Common_Elements.append(i)\n",
        "\n",
        "print(\"Common Elements are: \", Common_Elements)\n"
      ]
    },
    {
      "cell_type": "markdown",
      "metadata": {
        "id": "uHkd-y5VhVWC"
      },
      "source": [
        "(15) Write a Python program to randomly divide the students in this class into six groups for term projects, each group should have at least 4 students but no more than 6 students (including 6).\n",
        "\n",
        "Here is the students list:\n",
        "\n",
        "student_list_spring_2024=[rb0846,\n",
        "ac1964,\n",
        "hc0612,\n",
        "md0912,\n",
        "ad1198,\n",
        "md0894,\n",
        "md0825,\n",
        "vg0598,\n",
        "vg0433,\n",
        "mh1068,\n",
        "yj0173,\n",
        "pk0553,\n",
        "tk0411,\n",
        "srk0204,\n",
        "sk2922,\n",
        "sk2936,\n",
        "mk1302,\n",
        "mk1317,\n",
        "tk0412,\n",
        "vk0656,\n",
        "sm2985,\n",
        "mm2372,\n",
        "un0045,\n",
        "an0892,\n",
        "sn0913,\n",
        "gp0252,\n",
        "ap1484,\n",
        "mr1765,\n",
        "sr1385,\n",
        "sr1335,\n",
        "hs0665,\n",
        "ms2060,\n",
        "gt0217,\n",
        "nt0385,\n",
        "tv0186,\n",
        "sv1394,\n",
        "sv1752,\n",
        "sv1555,\n",
        "sy0594\n",
        "]\n"
      ]
    },
    {
      "cell_type": "code",
      "execution_count": 100,
      "metadata": {
        "id": "3iGbmcOBhTwy",
        "colab": {
          "base_uri": "https://localhost:8080/"
        },
        "outputId": "056e0724-2331-41eb-e786-9d96edb47e3f"
      },
      "outputs": [
        {
          "output_type": "stream",
          "name": "stdout",
          "text": [
            "Groups are as follows [['pk0553', 'sk2922', 'hc0612', 'sy0594', 'ms2060', 'vg0433'], ['mr1765', 'sr1335', 'gt0217', 'mk1317', 'tk0411', 'hs0665'], ['tk0412', 'sv1555', 'ad1198', 'srk0204', 'vk0656', 'md0894'], ['rb0846', 'sv1752', 'un0045', 'sv1394', 'sn0913', 'ap1484'], ['an0892', 'md0825', 'sk2936', 'ac1964', 'mm2372'], ['sm2985', 'mh1068', 'md0912', 'yj0173', 'sr1385'], ['nt0385', 'gp0252', 'vg0598', 'mk1302', 'tv0186']]\n"
          ]
        }
      ],
      "source": [
        "# write your answer here\n",
        "import random\n",
        "\n",
        "#creating a list of students ids\n",
        "List = [\"rb0846\", \"ac1964\", \"hc0612\", \"md0912\", \"ad1198\", \"md0894\", \"md0825\", \"vg0598\", \"vg0433\", \"mh1068\", \"yj0173\", \"pk0553\", \"tk0411\", \"srk0204\", \"sk2922\", \"sk2936\", \"mk1302\", \"mk1317\", \"tk0412\", \"vk0656\", \"sm2985\", \"mm2372\", \"un0045\", \"an0892\", \"sn0913\", \"gp0252\", \"ap1484\", \"mr1765\", \"sr1385\", \"sr1335\", \"hs0665\", \"ms2060\", \"gt0217\", \"nt0385\", \"tv0186\", \"sv1394\", \"sv1752\", \"sv1555\", \"sy0594\" ]\n",
        "\n",
        "#randomly suffling the ids\n",
        "random.shuffle(List)\n",
        "\n",
        "#dividing the students into groups between 4-6 and printing it\n",
        "Student_groups=[[] for _ in range(7)]\n",
        "\n",
        "for i in List:\n",
        "  minimum_group = min(Student_groups, key=len)\n",
        "  minimum_group.append(i)\n",
        "\n",
        "print(\"Groups are as follows\", Student_groups)\n",
        "\n",
        "\n",
        "\n"
      ]
    },
    {
      "cell_type": "markdown",
      "metadata": {
        "id": "fmZ9vX20Qs3d"
      },
      "source": [
        "(16) Create a program that takes a positive integer 'n' as input and prints the count of even numbers from 1 to 'n'. Optimize the loop using the break statement."
      ]
    },
    {
      "cell_type": "code",
      "execution_count": 102,
      "metadata": {
        "id": "W8Jw6sWMQs3d",
        "colab": {
          "base_uri": "https://localhost:8080/"
        },
        "outputId": "ef988b62-2fac-4137-84d6-b42a3e22fb1a"
      },
      "outputs": [
        {
          "output_type": "stream",
          "name": "stdout",
          "text": [
            "Enter a number: 10\n",
            "Count of even numbers between 1 to n are: 5\n"
          ]
        }
      ],
      "source": [
        "# write your answer here\n",
        "\n",
        "#Number accepted from the user as input\n",
        "Number = int(input(\"Enter a number: \"))\n",
        "\n",
        "count =0\n",
        "\n",
        "#counting even numbers between the range and printing them\n",
        "for i in range (1, Number+1):\n",
        "  if i%2==0:\n",
        "    count+=1\n",
        "  elif i > Number:\n",
        "    break\n",
        "\n",
        "print (\"Count of even numbers between 1 to n are:\", count)\n"
      ]
    },
    {
      "cell_type": "markdown",
      "metadata": {
        "id": "hvq4APMhQs3d"
      },
      "source": [
        "(17) Develop a Python function called 'count_vowels' that takes a string as input and returns the count of vowels (both lowercase and uppercase) present in the string, ignoring spaces and non-alphabetic characters."
      ]
    },
    {
      "cell_type": "code",
      "execution_count": 155,
      "metadata": {
        "id": "ZnoxhSglQs3d",
        "colab": {
          "base_uri": "https://localhost:8080/"
        },
        "outputId": "9b8fe44c-79b5-446a-a7c3-6e8258c5cce4"
      },
      "outputs": [
        {
          "output_type": "stream",
          "name": "stdout",
          "text": [
            "Enter a string: Durga Srikari\n",
            "The count of vowels in the string are: 5\n"
          ]
        }
      ],
      "source": [
        "# Program with function called 'count_vowels' that takes a string as input\n",
        "def count_vowels(String):\n",
        "  vowels =\"aeiouAEIOU\"\n",
        "  count = 0\n",
        "\n",
        "  #counting vowels and printing the number\n",
        "  for i in String:\n",
        "    if i.isalpha() and i in vowels:\n",
        "      count+=1\n",
        "  return count\n",
        "\n",
        "#initializing String\n",
        "String = str(input(\"Enter a string: \"))\n",
        "\n",
        "#Function call and return value\n",
        "result=count_vowels(String)\n",
        "\n",
        "#printing the result\n",
        "print(\"The count of vowels in the string are:\", result)"
      ]
    },
    {
      "cell_type": "markdown",
      "source": [
        "(18) Create a custom exception named ValueTooSmallError in Python. Write a program that takes user input for an age, and if the entered age is less than 18, raise the ValueTooSmallError with an appropriate error message."
      ],
      "metadata": {
        "id": "55FWoSJPVVM6"
      }
    },
    {
      "cell_type": "code",
      "source": [
        "# Program to demonstrate custom exception named ValueTooSmallError\n",
        "\n",
        "class ValueTooSmallError(Exception):\n",
        "  \"This is an exception created for value of age less than 18\"\n",
        "  pass\n",
        "\n",
        "#Try and Exception block to demonstrate ValueTooSmallError\n",
        "try:\n",
        "  Age = int(input(\"Enter a age: \"))\n",
        "  if Age < 18:\n",
        "    raise ValueTooSmallError(\"Age should be greater than 18\")\n",
        "  else:\n",
        "    print(\"Age is entered correctly. Your age is:\", Age)\n",
        "except ValueTooSmallError as e:\n",
        "    print(f\"Error: {e}\")\n",
        "except ValueError:\n",
        "    print(\"Unknown error: Please check the value you entered\")\n"
      ],
      "metadata": {
        "id": "hwtr1wZmVX5A",
        "colab": {
          "base_uri": "https://localhost:8080/"
        },
        "outputId": "1d13706d-5c8f-494d-e4c4-e7330c72b7ee"
      },
      "execution_count": 150,
      "outputs": [
        {
          "output_type": "stream",
          "name": "stdout",
          "text": [
            "Enter a age: 12\n",
            "Error: Age should be greater than 18\n"
          ]
        }
      ]
    },
    {
      "cell_type": "markdown",
      "source": [
        "(19) Develop a script that reverses a given string without using built-in reverse functions."
      ],
      "metadata": {
        "id": "Q9ecagcaVazW"
      }
    },
    {
      "cell_type": "code",
      "source": [
        "# Program to reverse a given string without using built-in reverse functions\n",
        "\n",
        "#Prompting the user to enter a string\n",
        "String = str(input(\"Enter a string: \"))\n",
        "\n",
        "#Reversing the String\n",
        "Reversed_String =String [::-1]\n",
        "\n",
        "#printing the orginal and reversed string\n",
        "print(\"Original String\", String)\n",
        "print(\"Reverse String\", Reversed_String)\n"
      ],
      "metadata": {
        "id": "gycgckoAVZjR",
        "colab": {
          "base_uri": "https://localhost:8080/"
        },
        "outputId": "d78769cd-2029-46ad-fee4-69d509edbb50"
      },
      "execution_count": 119,
      "outputs": [
        {
          "output_type": "stream",
          "name": "stdout",
          "text": [
            "Enter a string: Hello\n",
            "Original String Hello\n",
            "Reverse String olleH\n"
          ]
        }
      ]
    },
    {
      "cell_type": "markdown",
      "source": [
        "(20) Implement a Python script to generate a random password of a specified length."
      ],
      "metadata": {
        "id": "ZFG6RibifMLu"
      }
    },
    {
      "cell_type": "code",
      "source": [
        "# write your answer here\n",
        "\n",
        "import random\n",
        "import string\n",
        "\n",
        "Length = 12\n",
        "\n",
        "#Assigning valid characters\n",
        "Valid_characters=string.ascii_letters+string.ascii_lowercase+string.ascii_uppercase+string.punctuation\n",
        "\n",
        "#generating random password with valid characters\n",
        "Password = ''.join(random.choice(Valid_characters)for _ in range (Length))\n",
        "\n",
        "print(\"Random generated password is\", Password)\n"
      ],
      "metadata": {
        "id": "BFVrkEi9fNiD",
        "colab": {
          "base_uri": "https://localhost:8080/"
        },
        "outputId": "db199af1-6d8d-4501-9d6c-190fc8a17cc8"
      },
      "execution_count": 123,
      "outputs": [
        {
          "output_type": "stream",
          "name": "stdout",
          "text": [
            "Random generated password is MqMjVMw/<^Vk\n"
          ]
        }
      ]
    },
    {
      "cell_type": "markdown",
      "source": [
        "# Try these questions:"
      ],
      "metadata": {
        "id": "6SmvS7nSfbj8"
      }
    },
    {
      "cell_type": "markdown",
      "source": [
        "(21) Define a base class called 'Vehicle' with attributes make and model. Create a derived class Car that inherits from Vehicle and has an additional attribute 'num_doors'. Demonstrate an example of creating an instance of the 'Car' class and accessing its attributes."
      ],
      "metadata": {
        "id": "cboAr5pEWUf5"
      }
    },
    {
      "cell_type": "code",
      "source": [
        "# write your answer here\n"
      ],
      "metadata": {
        "id": "phs9gciMWWAW"
      },
      "execution_count": null,
      "outputs": []
    },
    {
      "cell_type": "markdown",
      "source": [
        "(22) Create a class called 'Shape' with a method calculate_area(). Implement two derived classes 'Circle' and 'Rectangle' that inherit from Shape and override the calculate_area() method. Demonstrate polymorphism by creating instances of both derived classes and calling the calculate_area() method."
      ],
      "metadata": {
        "id": "J8HHefNtePwd"
      }
    },
    {
      "cell_type": "code",
      "source": [
        "# write your answer here"
      ],
      "metadata": {
        "id": "btnMmUZDeRhS"
      },
      "execution_count": null,
      "outputs": []
    },
    {
      "cell_type": "markdown",
      "source": [
        "(23) Write a Python program that prompts the user to enter two numbers and perform a division operation. Handle exceptions for both zero division and invalid input (non-numeric input). Display appropriate error messages for each type of exception and ensure the program does not crash due to these errors."
      ],
      "metadata": {
        "id": "z0oqEAlTeMUS"
      }
    },
    {
      "cell_type": "code",
      "source": [
        "# write your answer here"
      ],
      "metadata": {
        "id": "yjdc1zM1eMAs"
      },
      "execution_count": null,
      "outputs": []
    },
    {
      "cell_type": "markdown",
      "source": [
        "# Mandatory Question"
      ],
      "metadata": {
        "id": "sZOhks1dXWEe"
      }
    },
    {
      "cell_type": "markdown",
      "source": [
        "**Important:**\n",
        "Reflecting on the first three lectures and the exercises you've completed, please provide feedback on your learning experience. Share your thoughts on whether the material covered was clear, the exercises were helpful, and if you feel more confident in applying Python programming concepts. Additionally, mention any specific areas where you would like more clarification or topics you would like to explore further in future lectures. Your feedback is valuable in shaping the course for an effective learning journey."
      ],
      "metadata": {
        "id": "eqmHVEwaWhbV"
      }
    },
    {
      "cell_type": "markdown",
      "source": [
        "Write your response here."
      ],
      "metadata": {
        "id": "HlpXOT9wXQAd"
      }
    },
    {
      "cell_type": "code",
      "source": [
        "The lessons were clear, exercises were helpful."
      ],
      "metadata": {
        "id": "Dq2aOZU7XIke"
      },
      "execution_count": null,
      "outputs": []
    }
  ],
  "metadata": {
    "colab": {
      "provenance": [],
      "include_colab_link": true
    },
    "kernelspec": {
      "display_name": "Python 3 (ipykernel)",
      "language": "python",
      "name": "python3"
    },
    "language_info": {
      "codemirror_mode": {
        "name": "ipython",
        "version": 3
      },
      "file_extension": ".py",
      "mimetype": "text/x-python",
      "name": "python",
      "nbconvert_exporter": "python",
      "pygments_lexer": "ipython3",
      "version": "3.9.12"
    }
  },
  "nbformat": 4,
  "nbformat_minor": 0
}