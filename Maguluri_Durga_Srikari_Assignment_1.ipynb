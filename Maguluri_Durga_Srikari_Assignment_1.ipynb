{
  "cells": [
    {
      "cell_type": "markdown",
      "metadata": {
        "id": "view-in-github",
        "colab_type": "text"
      },
      "source": [
        "<a href=\"https://colab.research.google.com/github/mdurgasrikari/Durga_Srikari_INFO5731_Spring2024/blob/main/Maguluri_Durga_Srikari_Assignment_1.ipynb\" target=\"_parent\"><img src=\"https://colab.research.google.com/assets/colab-badge.svg\" alt=\"Open In Colab\"/></a>"
      ]
    },
    {
      "cell_type": "markdown",
      "metadata": {
        "id": "Ryk8D1Q4Wsrp"
      },
      "source": [
        "# **INFO5731 Assignment One**"
      ]
    },
    {
      "cell_type": "markdown",
      "source": [
        "This assignment includes range of programming tasks and data analysis exercises, aiming to enhance your Python skills and proficiency in string manipulation, numerical computations, and data science. Follow the instructions carefully and design well-structured Python programs to address each question.\n",
        "\n",
        "Late Submission will have a penalty of 10% reduction for each day after the deadline."
      ],
      "metadata": {
        "id": "qcP6re2g5A5r"
      }
    },
    {
      "cell_type": "markdown",
      "metadata": {
        "id": "JkzR8cFAyGik"
      },
      "source": [
        "# Question 1 (10 points).\n",
        "\n",
        "The formula that describes the volume V of a hemisphere with radius r is the following:\n",
        "\n",
        "$ V=\\frac{2}{3}\\ast\\ \\pi\\ast\\ r^3 $\n",
        "\n",
        "Write a program to calculate the value of V when r is in the range of even numbers from 1-20. Output the result in the following format:\n",
        "\n",
        "\tr\tV\n",
        "\t2\t…\n",
        "\t4\t…\n",
        "\t6\t…\n",
        "\t.\n",
        "\t.\n",
        "\t.\n",
        "\t20\t…\n"
      ]
    },
    {
      "cell_type": "code",
      "execution_count": null,
      "metadata": {
        "id": "jDyTKYs-yGit",
        "colab": {
          "base_uri": "https://localhost:8080/"
        },
        "outputId": "33af2fba-57d5-46e8-e6fb-7ec410dffae2"
      },
      "outputs": [
        {
          "output_type": "stream",
          "name": "stdout",
          "text": [
            "r \t V\n",
            "2 \t 16.746666666666666\n",
            "4 \t 133.97333333333333\n",
            "6 \t 452.15999999999997\n",
            "8 \t 1071.7866666666666\n",
            "10 \t 2093.3333333333335\n",
            "12 \t 3617.2799999999997\n",
            "14 \t 5744.106666666667\n",
            "16 \t 8574.293333333333\n",
            "18 \t 12208.32\n",
            "20 \t 16746.666666666668\n"
          ]
        }
      ],
      "source": [
        "# Program for volume V of a hemisphere with radius r in mentioned output format\n",
        "\n",
        "#intitializing values\n",
        "pi = 3.14\n",
        "\n",
        "#printing the column names\n",
        "print (\"r \\t V\")\n",
        "\n",
        "#logic to calculate the volue of hemisphere for various radius and printing\n",
        "for r in range (1,21):\n",
        "  if r % 2==0:\n",
        "    V=2/3*pi*r**3\n",
        "    print (r, \"\\t\", V )\n"
      ]
    },
    {
      "cell_type": "markdown",
      "metadata": {
        "id": "90_NR8c5XGWc"
      },
      "source": [
        "# Question 2 (20 points)\n",
        "\n",
        "(a) Write a Python program to generate a sequence of 12 random numbers falling within the range of 50 to 150.\n",
        "\n",
        "(b) Arrange the generated numbers in ascending order. Display the sorted list.\n",
        "\n",
        "(c) Extend the program to arrange the numbers in descending order as well. Present the sorted list accordingly.\n",
        "\n",
        "(d) Compute and output the average of the entire group of generated numbers.\n",
        "\n",
        "(e) Enhance the program to calculate and display the average of the first 6 numbers from both the ascending and descending sorted lists."
      ]
    },
    {
      "cell_type": "code",
      "execution_count": null,
      "metadata": {
        "id": "5QX6bJjGWXY9",
        "colab": {
          "base_uri": "https://localhost:8080/"
        },
        "outputId": "bc7a555e-4c41-41f0-b99a-fca0db39318d"
      },
      "outputs": [
        {
          "output_type": "stream",
          "name": "stdout",
          "text": [
            "(a) 12 random integers in the range of 50 to 150: \n",
            "[126 132 138  88 141 138 128  79  59 136  88 140]\n",
            "\n",
            "\n",
            "(b) 12 random numbers arranged in ascending order\n",
            "[59, 79, 88, 88, 126, 128, 132, 136, 138, 138, 140, 141]\n",
            "\n",
            "\n",
            "(c) 12 random numbers arranged in descending order\n",
            "[141, 140, 138, 138, 136, 132, 128, 126, 88, 88, 79, 59]\n",
            "\n",
            "\n",
            "(d)Average of 12 random numbers is: 116.08333333333333\n",
            "\n",
            "\n",
            "(e)Average of first 6 number in ascending order: 94.66666666666667\n",
            "\n",
            "\n",
            "(e)Average of first 6 number in descending order: 137.5\n"
          ]
        }
      ],
      "source": [
        "# Write code for each of the sub parts with proper comments.\n",
        "\n",
        "#(a) Python program to generate a sequence of 12 random numbers falling within the range of 50 to 150\n",
        "import numpy as np\n",
        "\n",
        "#generating 12 random number within the specified range\n",
        "random_number = np.random.randint(50,151,12)\n",
        "print(\"(a) 12 random integers in the range of 50 to 150: \")\n",
        "print(random_number)\n",
        "\n",
        "#(b) Python Program to arrange the generated numbers in ascending order. Display the sorted list\n",
        "ascending_list=sorted(random_number)\n",
        "print(\"\\n\")\n",
        "print(\"(b) 12 random numbers arranged in ascending order\")\n",
        "print(ascending_list)\n",
        "\n",
        "#(c) Python Program to arrange the generated numbers in descending order. Display the sorted list\n",
        "descending_list=sorted(random_number, reverse=True)\n",
        "print(\"\\n\")\n",
        "print(\"(c) 12 random numbers arranged in descending order\")\n",
        "print(descending_list)\n",
        "\n",
        "#(d) Python Program to Compute and output the average of the entire group of generated numbers\n",
        "average=np.mean(random_number)\n",
        "print(\"\\n\")\n",
        "print(\"(d)Average of 12 random numbers is:\", average)\n",
        "\n",
        "#(e) Python Program to display the average of the first 6 numbers from both the ascending and descending sorted lists.\n",
        "average_ascending=np.mean(ascending_list[:6])\n",
        "average_descending=np.mean(descending_list[:6])\n",
        "print(\"\\n\")\n",
        "print(\"(e)Average of first 6 number in ascending order:\", average_ascending)\n",
        "print(\"\\n\")\n",
        "print(\"(e)Average of first 6 number in descending order:\", average_descending)"
      ]
    },
    {
      "cell_type": "markdown",
      "metadata": {
        "id": "1F_PZdH9Sh49"
      },
      "source": [
        "# Question 3 (20 points).\n",
        "\n",
        "Create a Python program that encompasses various string manipulation task:\n",
        "\n",
        "(a) Prompt the user to input two sentences.\n",
        "\n",
        "(b) Transform each sentence into a list, where each element corresponds to a word in the sentence. For example, if the sentences are \"Hello, how are you doing today?\" and \"This is an example sentence for the program!\"\n",
        "\n",
        "The program should output:\n",
        "['Hello', ',', 'how', 'are', 'you', 'doing', 'today', '?', 'This', 'is', 'an', 'example', 'sentence', 'for', 'the', 'program', '!']\n",
        "\n",
        "(c) Compare the two sentences. Print out a list of words that occur in both sentences.\n",
        "\n",
        "(d) Remove any punctuation from the sentence and print the sanitized sentences. It should remove at least the following characters, but it can remove more: period(“.”), comma (“,”), semicolon (“;”), and colon (“:”).\n",
        "\n",
        "(e) Count the number of vowels in each of the sentences. Print out each vowel and the occurrences  in the each of the two sentences separately, such as:\n",
        "\n",
        "Sentence1: a:2, e:2, i:0, etc.\n",
        "Sentence2: a:1, e:2, i:2, etc.\n",
        "\n",
        "Design a well-structured Python program to execute these tasks efficiently."
      ]
    },
    {
      "cell_type": "code",
      "source": [],
      "metadata": {
        "id": "60U-zXqf6Lak"
      },
      "execution_count": null,
      "outputs": []
    },
    {
      "cell_type": "code",
      "execution_count": null,
      "metadata": {
        "id": "Y0oOSlsOS0cq",
        "colab": {
          "base_uri": "https://localhost:8080/"
        },
        "outputId": "88895443-6997-4762-e698-335b6235986c"
      },
      "outputs": [
        {
          "output_type": "stream",
          "name": "stdout",
          "text": [
            "(a) Program to prompt the user to input two sentences.\n",
            "Enter First Senstence: Hello, how are you doing today?\n",
            "Enter Second Senstence: Hello, This is an example sentence for the program!\n",
            "User Input Sentence 1 is:  Hello, how are you doing today?\n",
            "User Input Sentence 2 is:  Hello, This is an example sentence for the program!\n",
            "\n",
            "(b) Program to split the two sentences based on the instructions provided.\n",
            "Tranformed sentence 1 is:  ['Hello', ',', 'how', 'are', 'you', 'doing', 'today', '?']\n",
            "Tranformed sentence 2 is:  ['Hello', ',', 'This', 'is', 'an', 'example', 'sentence', 'for', 'the', 'program', '!']\n",
            "\n",
            "(c)Compare the two sentences and print common words\n",
            "Common words in the two sentences are:  ['Hello', ',']\n",
            "\n",
            "(d) Remove the punctuation and sanitize the sentences\n",
            "Sanitized Sentence 1 Hello how are you doing today\n",
            "Sanitized Sentence 2 Hello This is an example sentence for the program\n",
            "\n",
            "(e) Count the number of vowels in each of the sentences and Print each vowel and their occurrences in each sentence\n",
            "Frequency of vowels in a String1 is: {'a': 2, 'e': 2, 'i': 1, 'o': 5, 'u': 1}\n",
            "Frequency of vowels in a String2 is: {'a': 3, 'e': 7, 'i': 2, 'o': 3, 'u': 0}\n"
          ]
        }
      ],
      "source": [
        "# Your code here\n",
        "\n",
        "import re\n",
        "import string\n",
        "\n",
        "#(a)Prompting the user to enter two sentences\n",
        "print(\"(a) Program to prompt the user to input two sentences.\")\n",
        "String1 = str(input(\"Enter First Senstence: \"))\n",
        "String2 = str(input(\"Enter Second Senstence: \"))\n",
        "print(\"User Input Sentence 1 is: \", String1)\n",
        "print(\"User Input Sentence 2 is: \", String2)\n",
        "\n",
        "#(b)splitting the two sentences based on the instructions provided\n",
        "print(\"\\n(b) Program to split the two sentences based on the instructions provided.\")\n",
        "List_String_1 = re.findall( r'\\w+|[^\\s\\w]+', String1)\n",
        "List_String_2 = re.findall( r'\\w+|[^\\s\\w]+', String2)\n",
        "print(\"Tranformed sentence 1 is: \", List_String_1)\n",
        "print(\"Tranformed sentence 2 is: \", List_String_2)\n",
        "\n",
        "#(c)Program to compare the two sentences and print common words.\n",
        "print(\"\\n(c)Compare the two sentences and print common words\" )\n",
        "Common_words=[]\n",
        "for i in List_String_1:\n",
        "  if i in List_String_2:\n",
        "      Common_words.append(i)\n",
        "print(\"Common words in the two sentences are: \", Common_words)\n",
        "\n",
        "#(d)Program to remove any punctuation from the sentence and print the sanitized sentences\n",
        "print(\"\\n(d) Remove the punctuation and sanitize the sentences\")\n",
        "Sanitized_String_1 = String1.translate(str.maketrans('', '', string.punctuation))\n",
        "Sanitized_String_2 = String2.translate(str.maketrans('', '', string.punctuation))\n",
        "print(\"Sanitized Sentence 1\", Sanitized_String_1)\n",
        "print(\"Sanitized Sentence 2\", Sanitized_String_2)\n",
        "\n",
        "#(e)Program to count the number of vowels in each of the sentences and Print each vowel and their occurrences in each sentence\n",
        "print(\"\\n(e) Count the number of vowels in each of the sentences and Print each vowel and their occurrences in each sentence\")\n",
        "vowels=\"aeiou\"\n",
        "Frequency1={}.fromkeys(vowels, 0)\n",
        "Frequency2={}.fromkeys(vowels, 0)\n",
        "\n",
        "Case_insensitive_String1= String1.lower()\n",
        "Case_insensitive_String2= String2.lower()\n",
        "\n",
        "for k in Case_insensitive_String1:\n",
        "  if k in vowels:\n",
        "    Frequency1[k] += 1\n",
        "\n",
        "for j in Case_insensitive_String2:\n",
        "  if j in vowels:\n",
        "    Frequency2[j] += 1\n",
        "\n",
        "print(\"Frequency of vowels in a String1 is:\", str(Frequency1))\n",
        "print(\"Frequency of vowels in a String2 is:\", str(Frequency2))"
      ]
    },
    {
      "cell_type": "markdown",
      "source": [
        "# Question 4 (20 Points)"
      ],
      "metadata": {
        "id": "OP4-5qxAtInv"
      }
    },
    {
      "cell_type": "markdown",
      "source": [
        "Design and implement a simple command-line calculator program. The program should handle both integers and floating-point numbers.\n",
        "\n",
        "(a) Write program that takes a mathematical expression as input and evaluates it. The program should support addition, subtraction, multiplication, and division.\n",
        "\n",
        "(b) Extend the calculator to handle parentheses in mathematical expressions. Implement the necessary logic to evaluate expressions with nested parentheses.\n",
        "\n",
        "(c) Enhance your calculator to include additional mathematical operations such as exponentiation, square root, and modulus.\n",
        "\n",
        "(d) Implement error handling in the calculator program. Handle cases such as division by zero and invalid input expressions. Provide meaningful error messages.\n",
        "\n",
        "(e) Implement a command to exit the calculator."
      ],
      "metadata": {
        "id": "uzN4_hDptK9U"
      }
    },
    {
      "cell_type": "code",
      "source": [
        "# Program to design and implement a simple command-line calculator program to handle both integers and floating point numbers\n",
        "\n",
        "import re\n",
        "import math\n",
        "\n",
        "# (d) Error Handling\n",
        "def calculate_expression(expression):\n",
        "    try:\n",
        "        return eval(expression)\n",
        "    except ZeroDivisionError:\n",
        "        return \"Error: Division by zero\"\n",
        "    except Exception as e:\n",
        "        return f\"Error: {str(e)}\"\n",
        "\n",
        "# (c) Handle basic and additional arithmetic operations\n",
        "def handle_operation(match):\n",
        "    Mathematical_Operation = match.group(2)\n",
        "    First_Number = float(match.group(1))\n",
        "    Second_Number = float(match.group(3))\n",
        "\n",
        "    if Mathematical_Operation == '+':\n",
        "        return str(First_Number + Second_Number)\n",
        "    elif Mathematical_Operation == '-':\n",
        "        return str(First_Number - Second_Number)\n",
        "    elif Mathematical_Operation == '*':\n",
        "        return str(First_Number * Second_Number)\n",
        "    elif Mathematical_Operation == '/':\n",
        "        if Second_Number == 0:\n",
        "            return \"Error: Division by zero\"\n",
        "        else:\n",
        "            return str(First_Number / Second_Number)\n",
        "    elif Mathematical_Operation == '%':\n",
        "        return str(First_Number % Second_Number)\n",
        "    elif Mathematical_Operation == '^':\n",
        "        return str(First_Number ** Second_Number)\n",
        "    elif Mathematical_Operation == 'sqrt':\n",
        "        if First_Number < 0:\n",
        "            return \"Error: Cannot take square root of a negative number\"\n",
        "        else:\n",
        "            return str(math.sqrt(First_Number))\n",
        "\n",
        "\n",
        "# (b) Program to evaluate expressions with parentheses\n",
        "def calculation_with_paranthesis(expression):\n",
        "    while '(' in expression:\n",
        "        expression = re.sub(r'\\(([^()]+)\\)', lambda x: str(calculate_expression(x.group(1))), expression)\n",
        "    return calculate_expression(expression)\n",
        "\n",
        "# (a) Main Function that takes mathematical expression as input and evaluates it\n",
        "def main():\n",
        "    print(\"Enter an expression calculation or type exit to quit\")\n",
        "\n",
        "    while True:\n",
        "        expression = input(\"Enter expression to calculate: \")\n",
        "\n",
        "#(e) Exiting the calculator\n",
        "        if expression.lower() == 'exit':\n",
        "            print(\"Calculator exited\")\n",
        "            break\n",
        "\n",
        "        try:\n",
        "            result = calculation_with_paranthesis(expression)\n",
        "            print(\"Result:\", result)\n",
        "        except Exception as e:\n",
        "            print(\"Error:\", str(e))\n",
        "\n",
        "if __name__ == \"__main__\":\n",
        "    main()"
      ],
      "metadata": {
        "colab": {
          "base_uri": "https://localhost:8080/"
        },
        "id": "A09BSj7iiwK6",
        "outputId": "6b9ef322-a2f8-42c1-efa0-66275910d684"
      },
      "execution_count": 90,
      "outputs": [
        {
          "output_type": "stream",
          "name": "stdout",
          "text": [
            "Enter an expression calculation or type exit to quit\n",
            "Enter expression to calculate: 3+4\n",
            "Result: 7\n",
            "Enter expression to calculate: 4.0*3.0\n",
            "Result: 12.0\n",
            "Enter expression to calculate: 12345/12\n",
            "Result: 1028.75\n",
            "Enter expression to calculate: exit\n",
            "Calculator exited\n"
          ]
        }
      ]
    },
    {
      "cell_type": "markdown",
      "metadata": {
        "id": "z3tBE7E-Xn5X"
      },
      "source": [
        "# Question 5 (30 points).\n",
        "\n",
        "In the field of Data Science, data is often formatted as a comma-delimited (CSV) file, where each line in a file corresponds to a field's value. Refer to Chapter 9 (p. 106) for more information on comma-delimited files.\n",
        "\n",
        "To answer this question, you will need to download the file [Assignment1_denton_housing.csv](https://raw.githubusercontent.com/unt-iialab/info5731-spring2022/main/assignments/Assignment1_denton_housing.csv) included with this assignment. The file contains statistics about housing in the city of Denton from 2008 to 2014. Write a program to implement the following questions.\n",
        "\n",
        "(a) (5 pts) Calculate the difference in the number of Occupied Housing Units from year to year and print it. The difference must be calculated for the consecutive years such as 2008-2009, 2009-2010 etc. Finally, print the values in the ascending order.\n",
        "\n",
        "(b) (5 pts) For all the years, calculate the percentage of housing units which are vacant an occupied. Print the results in the following format:\n",
        "\n",
        "Year Vacant Housing Units Occupied Housing Units\n",
        "\n",
        "    2008  30%   70%                          \n",
        "\t2009 ----- -----\n",
        "\t2010 ----- -----\n",
        "    2011 ----- -----\n",
        "\t2012 ----- -----\n",
        "    2013 ----- -----\n",
        "\t2014 ----- -----\n",
        "  \n",
        "  \n",
        "\n",
        "(c) (10 pts) Calculate and print the valued and years in which the highest number of housing units were vacant and occupied. Print the results in the following format:  \n",
        "\n",
        "                              Year\tValue\n",
        "\tVacant Housing Units\t  -----   -----\n",
        "\tOccupied Housing Units\t-----   -----\n",
        "\n",
        "(d) (10 pts) Calculate the harmonic mean of the total housing units and print it out. You can find the information about harmonic mean here: https://ncalculators.com/statistics/harmonic-mean-calculator.htm"
      ]
    },
    {
      "cell_type": "code",
      "execution_count": 87,
      "metadata": {
        "id": "lqGYuHBhcsRH",
        "colab": {
          "base_uri": "https://localhost:8080/"
        },
        "outputId": "4bd519f0-31dc-4f0e-f040-1df209e299f0"
      },
      "outputs": [
        {
          "output_type": "stream",
          "name": "stdout",
          "text": [
            "   year             title_field  value\n",
            "0  2014     Total Housing Units  49109\n",
            "1  2014    Vacant Housing Units   2814\n",
            "2  2014  Occupied Housing Units  46295\n",
            "3  2013     Total Housing Units  47888\n",
            "4  2013    Vacant Housing Units   4215\n"
          ]
        }
      ],
      "source": [
        " # Your code here\n",
        "\n",
        "import pandas as pd\n",
        "data_df = pd.read_csv('https://raw.githubusercontent.com/unt-iialab/info5731-spring2022/main/assignments/Assignment1_denton_housing.csv')\n",
        "print(data_df.head(5))"
      ]
    },
    {
      "cell_type": "markdown",
      "source": [
        "### **Question - A**"
      ],
      "metadata": {
        "id": "46N0nNWxMwsN"
      }
    },
    {
      "cell_type": "code",
      "source": [
        " #(a) Program to calculate the difference in the number of Occupied Housing Units from year to year and print it.\n",
        "\n",
        " occupied_Housing_data = data_df[data_df['title_field'] == 'Occupied Housing Units'].sort_values(by='year')\n",
        " print(occupied_Housing_data)"
      ],
      "metadata": {
        "colab": {
          "base_uri": "https://localhost:8080/"
        },
        "id": "v72P_LJ4Lf9H",
        "outputId": "1ec65d5c-55e6-41c9-80cb-51e14643302f"
      },
      "execution_count": 82,
      "outputs": [
        {
          "output_type": "stream",
          "name": "stdout",
          "text": [
            "    year             title_field  value\n",
            "20  2008  Occupied Housing Units  36711\n",
            "17  2009  Occupied Housing Units  35916\n",
            "14  2010  Occupied Housing Units  41007\n",
            "11  2011  Occupied Housing Units  40704\n",
            "8   2012  Occupied Housing Units  42108\n",
            "5   2013  Occupied Housing Units  43673\n",
            "2   2014  Occupied Housing Units  46295\n"
          ]
        }
      ]
    },
    {
      "cell_type": "code",
      "source": [],
      "metadata": {
        "id": "KMRTDmprfdc6"
      },
      "execution_count": null,
      "outputs": []
    },
    {
      "cell_type": "code",
      "source": [
        "###Output to show the difference and appending it to\n",
        "occupied_Housing_data['difference'] = occupied_Housing_data.groupby('title_field')['value'].diff().fillna(0).astype(int)\n",
        "print(occupied_Housing_data)"
      ],
      "metadata": {
        "colab": {
          "base_uri": "https://localhost:8080/"
        },
        "id": "m9iTfCaNL85_",
        "outputId": "2a3dd23f-c91b-4bbc-8e0e-f3242f170ab6"
      },
      "execution_count": 84,
      "outputs": [
        {
          "output_type": "stream",
          "name": "stdout",
          "text": [
            "    year             title_field  value  difference\n",
            "20  2008  Occupied Housing Units  36711           0\n",
            "17  2009  Occupied Housing Units  35916        -795\n",
            "14  2010  Occupied Housing Units  41007        5091\n",
            "11  2011  Occupied Housing Units  40704        -303\n",
            "8   2012  Occupied Housing Units  42108        1404\n",
            "5   2013  Occupied Housing Units  43673        1565\n",
            "2   2014  Occupied Housing Units  46295        2622\n"
          ]
        }
      ]
    },
    {
      "cell_type": "code",
      "source": [
        "#Adding the year range as per the question\n",
        "\n",
        "occupied_Housing_data['year_range'] = occupied_Housing_data['year'].astype(str) + '-' + (occupied_Housing_data['year'] + 1).astype(str)\n",
        "print(occupied_Housing_data)"
      ],
      "metadata": {
        "colab": {
          "base_uri": "https://localhost:8080/"
        },
        "id": "rNSmBUjTMLPt",
        "outputId": "56dd20df-f79c-4d3c-b39f-2903421767c1"
      },
      "execution_count": 85,
      "outputs": [
        {
          "output_type": "stream",
          "name": "stdout",
          "text": [
            "    year             title_field  value  difference year_range\n",
            "20  2008  Occupied Housing Units  36711           0  2008-2009\n",
            "17  2009  Occupied Housing Units  35916        -795  2009-2010\n",
            "14  2010  Occupied Housing Units  41007        5091  2010-2011\n",
            "11  2011  Occupied Housing Units  40704        -303  2011-2012\n",
            "8   2012  Occupied Housing Units  42108        1404  2012-2013\n",
            "5   2013  Occupied Housing Units  43673        1565  2013-2014\n",
            "2   2014  Occupied Housing Units  46295        2622  2014-2015\n"
          ]
        }
      ]
    },
    {
      "cell_type": "code",
      "source": [
        "# Select only the columns you want to display and Printing the data in asecending order\n",
        "occupied_Housing_data = occupied_Housing_data[['year_range', 'difference']].sort_values(by='difference')\n",
        "print(occupied_Housing_data)"
      ],
      "metadata": {
        "colab": {
          "base_uri": "https://localhost:8080/"
        },
        "id": "7wAPE8Q0S02o",
        "outputId": "b3f94b07-210a-4bd7-8018-1d8a2446c8b7"
      },
      "execution_count": 86,
      "outputs": [
        {
          "output_type": "stream",
          "name": "stdout",
          "text": [
            "   year_range  difference\n",
            "17  2009-2010        -795\n",
            "11  2011-2012        -303\n",
            "20  2008-2009           0\n",
            "8   2012-2013        1404\n",
            "5   2013-2014        1565\n",
            "2   2014-2015        2622\n",
            "14  2010-2011        5091\n"
          ]
        }
      ]
    },
    {
      "cell_type": "markdown",
      "source": [
        "### **Question - B**"
      ],
      "metadata": {
        "id": "aai_XYdGNAcF"
      }
    },
    {
      "cell_type": "code",
      "source": [
        "#Program to calculate the percentage of housing units which are vacant an occupied and print the results in the given format:\n",
        "\n",
        "total_housing_units = data_df[data_df['title_field'] == 'Total Housing Units'].set_index('year')['value']\n",
        "vacant_housing_units = data_df[data_df['title_field'] == 'Vacant Housing Units'].set_index('year')['value']\n",
        "occupied_housing_units = data_df[data_df['title_field'] == 'Occupied Housing Units'].set_index('year')['value']"
      ],
      "metadata": {
        "id": "cJjj3GxJNIAk"
      },
      "execution_count": 11,
      "outputs": []
    },
    {
      "cell_type": "code",
      "source": [
        "#Getting the percent vacant and percent occupied\n",
        "percentage_vacant = ((vacant_housing_units / total_housing_units) * 100).round().astype(int)\n",
        "percentage_occupied = ((occupied_housing_units / total_housing_units) * 100).round().astype(int)"
      ],
      "metadata": {
        "id": "oDcFKmSxNefe"
      },
      "execution_count": 19,
      "outputs": []
    },
    {
      "cell_type": "code",
      "source": [
        "#Creating a dataframe for the final output\n",
        "\n",
        "result_df = pd.DataFrame({\n",
        "    'Vacant Housing Units': percentage_vacant,\n",
        "    'Occupied Housing Units': percentage_occupied\n",
        "})"
      ],
      "metadata": {
        "id": "wteXDcQ8NilW"
      },
      "execution_count": 31,
      "outputs": []
    },
    {
      "cell_type": "code",
      "source": [
        "#Sort the DataFrame by year in ascending order\n",
        "result_df.sort_index(inplace=True)\n",
        "\n",
        "#Print the results in the desired format\n",
        "print(\"\\nYear Vacant Housing Units Occupied Housing Units\")\n",
        "for year in result_df.index:\n",
        "    print(f\"{year}  {result_df.loc[year]['Vacant Housing Units']}%   {result_df.loc[year]['Occupied Housing Units']}%\")"
      ],
      "metadata": {
        "colab": {
          "base_uri": "https://localhost:8080/"
        },
        "id": "1OUvrQzQPrIP",
        "outputId": "cae6c870-9b19-49b1-9405-906045cd40f5"
      },
      "execution_count": 30,
      "outputs": [
        {
          "output_type": "stream",
          "name": "stdout",
          "text": [
            "\n",
            "Year Vacant Housing Units Occupied Housing Units\n",
            "2008  11%   89%\n",
            "2009  9%   91%\n",
            "2010  8%   92%\n",
            "2011  9%   91%\n",
            "2012  7%   93%\n",
            "2013  9%   91%\n",
            "2014  6%   94%\n"
          ]
        }
      ]
    },
    {
      "cell_type": "markdown",
      "source": [
        "### **Question - C**"
      ],
      "metadata": {
        "id": "DzgH3JELOwo9"
      }
    },
    {
      "cell_type": "code",
      "source": [
        "#Calculate and print the valued and years in which the highest number of housing units were vacant and occupied. Print the results in the following format:\n",
        "\n",
        "#Find the year and value with the highest number of vacant housing units\n",
        "max_vacant_year = result_df['Vacant Housing Units'].idxmax()\n",
        "max_vacant_value = result_df.loc[max_vacant_year]['Vacant Housing Units']"
      ],
      "metadata": {
        "id": "5GGDmK08O0e-"
      },
      "execution_count": 22,
      "outputs": []
    },
    {
      "cell_type": "code",
      "source": [
        "#Find the year and value with the highest number of occupied housing units\n",
        "max_occupied_year = result_df['Occupied Housing Units'].idxmax()\n",
        "max_occupied_value = result_df.loc[max_occupied_year]['Occupied Housing Units']"
      ],
      "metadata": {
        "id": "EJuWUjAKPcOo"
      },
      "execution_count": 27,
      "outputs": []
    },
    {
      "cell_type": "code",
      "source": [
        "#Print the results in the desired format\n",
        "print(\"Year\\t\\tValue\")\n",
        "print(f\"Vacant Housing Units\\t{max_vacant_year}\\t\\t{max_vacant_value}%\")\n",
        "print(f\"Occupied Housing Units\\t{max_occupied_year}\\t\\t{max_occupied_value}%\")"
      ],
      "metadata": {
        "colab": {
          "base_uri": "https://localhost:8080/"
        },
        "id": "cnZSjmZFPjie",
        "outputId": "56db7688-d425-4788-9170-84839cf6df58"
      },
      "execution_count": 29,
      "outputs": [
        {
          "output_type": "stream",
          "name": "stdout",
          "text": [
            "Year\t\tValue\n",
            "Vacant Housing Units\t2008\t\t11%\n",
            "Occupied Housing Units\t2014\t\t94%\n"
          ]
        }
      ]
    },
    {
      "cell_type": "markdown",
      "source": [
        "### **Question - D**"
      ],
      "metadata": {
        "id": "WOf34D1nQAqm"
      }
    },
    {
      "cell_type": "code",
      "source": [
        "#Calculate the harmonic mean of the total housing units and print it out.\n",
        "\n",
        "from scipy.stats import hmean\n",
        "\n",
        "#Calculate the harmonic mean of the total housing units\n",
        "harmonic_mean = hmean(total_housing_units)\n",
        "\n",
        "#Print the harmonic mean\n",
        "print(\"Harmonic Mean of Total Housing Units:\", harmonic_mean)"
      ],
      "metadata": {
        "colab": {
          "base_uri": "https://localhost:8080/"
        },
        "id": "YvvWEvQQQDpG",
        "outputId": "eab14c3d-dc77-4788-e6f7-225487792a24"
      },
      "execution_count": 32,
      "outputs": [
        {
          "output_type": "stream",
          "name": "stdout",
          "text": [
            "Harmonic Mean of Total Housing Units: 44398.28543969185\n"
          ]
        }
      ]
    },
    {
      "cell_type": "markdown",
      "source": [
        "# Mandatory Question\n",
        "\n",
        "Provide your thoughts on the assignment. What did you find challenging, and what aspects did you enjoy? Your opinion on the provided time to complete the assignment. Share any suggestions for improvement. Your feedback will be valuable for enhancing the learning experience."
      ],
      "metadata": {
        "id": "q8BFCvWp32cf"
      }
    },
    {
      "cell_type": "code",
      "source": [
        "# Write your response below\n",
        "#I felt that there was a sudden jump from general programs to different ways of programming. It would be great if the complex questions such as calculator and data science questions could be discussed briefly in the class and provide\n",
        "#guidance on how to approach them. These took a lot of my thought and required a lot of guidance before being able to solve them."
      ],
      "metadata": {
        "id": "_e557s2w4BpK"
      },
      "execution_count": null,
      "outputs": []
    }
  ],
  "metadata": {
    "colab": {
      "provenance": [],
      "include_colab_link": true
    },
    "kernelspec": {
      "display_name": "Python 3 (ipykernel)",
      "language": "python",
      "name": "python3"
    },
    "language_info": {
      "codemirror_mode": {
        "name": "ipython",
        "version": 3
      },
      "file_extension": ".py",
      "mimetype": "text/x-python",
      "name": "python",
      "nbconvert_exporter": "python",
      "pygments_lexer": "ipython3",
      "version": "3.9.12"
    }
  },
  "nbformat": 4,
  "nbformat_minor": 0
}